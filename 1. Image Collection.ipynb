{
 "cells": [
  {
   "cell_type": "markdown",
   "metadata": {},
   "source": [
    "# 1. Import Dependencies"
   ]
  },
  {
   "cell_type": "code",
   "execution_count": null,
   "metadata": {},
   "outputs": [
    {
     "name": "stdout",
     "output_type": "stream",
     "text": [
      "Requirement already satisfied: opencv-python in d:\\youtube\\od\\tfodcourse\\tfod\\lib\\site-packages (4.5.1.48)\n",
      "Requirement already satisfied: numpy>=1.14.5 in d:\\youtube\\od\\tfodcourse\\tfod\\lib\\site-packages (from opencv-python) (1.20.2)\n"
     ]
    }
   ],
   "source": [
    "# !pip install opencv-python"
   ]
  },
  {
   "cell_type": "code",
   "execution_count": 2,
   "metadata": {},
   "outputs": [],
   "source": [
    "# Import opencv\n",
    "import cv2 \n",
    "\n",
    "# Import uuid\n",
    "import uuid\n",
    "\n",
    "# Import Operating System\n",
    "import os\n",
    "\n",
    "# Import time\n",
    "import time"
   ]
  },
  {
   "cell_type": "markdown",
   "metadata": {},
   "source": [
    "# 2. Define Images to Collect"
   ]
  },
  {
   "cell_type": "code",
   "execution_count": 3,
   "metadata": {},
   "outputs": [],
   "source": [
    "labels = ['thumbsup', 'thumbsdown', 'thankyou', 'livelong']\n",
    "number_imgs = 5"
   ]
  },
  {
   "cell_type": "markdown",
   "metadata": {},
   "source": [
    "# 3. Setup Folders "
   ]
  },
  {
   "cell_type": "code",
   "execution_count": 4,
   "metadata": {},
   "outputs": [],
   "source": [
    "IMAGES_PATH = os.path.join('Tensorflow', 'workspace', 'images', 'collectedimages')"
   ]
  },
  {
   "cell_type": "code",
   "execution_count": 5,
   "metadata": {},
   "outputs": [
    {
     "name": "stdout",
     "output_type": "stream",
     "text": [
      "Tensorflow/workspace/images/collectedimages\n"
     ]
    }
   ],
   "source": [
    "print(IMAGES_PATH)"
   ]
  },
  {
   "cell_type": "code",
   "execution_count": 4,
   "metadata": {},
   "outputs": [],
   "source": [
    "if not os.path.exists(IMAGES_PATH):\n",
    "    if os.name == 'posix':\n",
    "        !mkdir -p {IMAGES_PATH}\n",
    "    if os.name == 'nt':\n",
    "         !mkdir {IMAGES_PATH}\n",
    "for label in labels:\n",
    "    path = os.path.join(IMAGES_PATH, label)\n",
    "    if not os.path.exists(path):\n",
    "        !mkdir {path}"
   ]
  },
  {
   "cell_type": "markdown",
   "metadata": {},
   "source": [
    "# 4. Capture Images"
   ]
  },
  {
   "cell_type": "code",
   "execution_count": 12,
   "metadata": {},
   "outputs": [
    {
     "name": "stdout",
     "output_type": "stream",
     "text": [
      "Collecting images for thumbsup\n",
      "Press \"q\" to stop early\n",
      "Collecting image 1/15\n",
      "Saved: Tensorflow/workspace/images/collectedimages/thumbsup/thumbsup.5c41788e-31ec-11f0-a028-ca2a8e13dad8.jpg\n",
      "Collecting image 2/15\n",
      "Saved: Tensorflow/workspace/images/collectedimages/thumbsup/thumbsup.5d8237d8-31ec-11f0-a028-ca2a8e13dad8.jpg\n",
      "Collecting image 3/15\n",
      "Saved: Tensorflow/workspace/images/collectedimages/thumbsup/thumbsup.5ebb1688-31ec-11f0-a028-ca2a8e13dad8.jpg\n",
      "Collecting image 4/15\n",
      "Saved: Tensorflow/workspace/images/collectedimages/thumbsup/thumbsup.5ff6a1fc-31ec-11f0-a028-ca2a8e13dad8.jpg\n",
      "Collecting image 5/15\n",
      "Saved: Tensorflow/workspace/images/collectedimages/thumbsup/thumbsup.612fb004-31ec-11f0-a028-ca2a8e13dad8.jpg\n",
      "Collecting image 6/15\n",
      "Saved: Tensorflow/workspace/images/collectedimages/thumbsup/thumbsup.626cbcd2-31ec-11f0-a028-ca2a8e13dad8.jpg\n",
      "Collecting image 7/15\n",
      "Saved: Tensorflow/workspace/images/collectedimages/thumbsup/thumbsup.63a529ea-31ec-11f0-a028-ca2a8e13dad8.jpg\n",
      "Collecting image 8/15\n",
      "Saved: Tensorflow/workspace/images/collectedimages/thumbsup/thumbsup.64e26cbe-31ec-11f0-a028-ca2a8e13dad8.jpg\n",
      "Collecting image 9/15\n",
      "Saved: Tensorflow/workspace/images/collectedimages/thumbsup/thumbsup.661f3ecc-31ec-11f0-a028-ca2a8e13dad8.jpg\n",
      "Collecting image 10/15\n",
      "Saved: Tensorflow/workspace/images/collectedimages/thumbsup/thumbsup.675aedfe-31ec-11f0-a028-ca2a8e13dad8.jpg\n",
      "Collecting image 11/15\n",
      "Saved: Tensorflow/workspace/images/collectedimages/thumbsup/thumbsup.6892cc8c-31ec-11f0-a028-ca2a8e13dad8.jpg\n",
      "Collecting image 12/15\n",
      "Saved: Tensorflow/workspace/images/collectedimages/thumbsup/thumbsup.69cabcb8-31ec-11f0-a028-ca2a8e13dad8.jpg\n",
      "Collecting image 13/15\n",
      "Saved: Tensorflow/workspace/images/collectedimages/thumbsup/thumbsup.6b024ac4-31ec-11f0-a028-ca2a8e13dad8.jpg\n",
      "Collecting image 14/15\n",
      "Saved: Tensorflow/workspace/images/collectedimages/thumbsup/thumbsup.6c3a7a74-31ec-11f0-a028-ca2a8e13dad8.jpg\n",
      "Collecting image 15/15\n",
      "Saved: Tensorflow/workspace/images/collectedimages/thumbsup/thumbsup.6d7267a8-31ec-11f0-a028-ca2a8e13dad8.jpg\n",
      "Image collection for thumbsup complete\n"
     ]
    }
   ],
   "source": [
    "import cv2\n",
    "import os\n",
    "import time\n",
    "import uuid\n",
    "\n",
    "# Set your variables\n",
    "IMAGES_PATH = 'Tensorflow/workspace/images/collectedimages'  \n",
    "label = 'thumbsup'  \n",
    "number_imgs = 15  \n",
    "\n",
    "\n",
    "os.makedirs(os.path.join(IMAGES_PATH, label), exist_ok=True)\n",
    "\n",
    "cap = cv2.VideoCapture(0)\n",
    "if not cap.isOpened():\n",
    "    print(\"Error: Could not access the camera. Check permissions in System Preferences.\")\n",
    "else:\n",
    "    print(f'Collecting images for {label}')\n",
    "    print('Press \"q\" to stop early')\n",
    "    time.sleep(2)  \n",
    "    \n",
    "    for imgnum in range(number_imgs):\n",
    "        print(f'Collecting image {imgnum+1}/{number_imgs}')\n",
    "        ret, frame = cap.read()\n",
    "        \n",
    "        if not ret:\n",
    "            print(\"Failed to capture image\")\n",
    "            continue\n",
    "            \n",
    "        imgname = os.path.join(IMAGES_PATH, label, f'{label}.{str(uuid.uuid1())}.jpg')\n",
    "        cv2.imwrite(imgname, frame)\n",
    "        \n",
    "        # Display the image\n",
    "        cv2.imshow('frame', frame)\n",
    "        print(f\"Saved: {imgname}\")\n",
    "        time.sleep(2)\n",
    "        \n",
    "        # Check for 'q' key press\n",
    "        key = cv2.waitKey(1) & 0xFF\n",
    "        if key == ord('q'):\n",
    "            break\n",
    "            \n",
    "    # Release camera\n",
    "    cap.release()\n",
    "    cv2.destroyAllWindows()\n",
    "    \n",
    "    print(f\"Image collection for {label} complete\")"
   ]
  },
  {
   "cell_type": "code",
   "execution_count": 16,
   "metadata": {},
   "outputs": [
    {
     "name": "stdout",
     "output_type": "stream",
     "text": [
      "Collecting images for thumbsdown\n",
      "Press \"q\" to stop early\n",
      "Collecting image 1/1\n",
      "Saved: Tensorflow/workspace/images/collectedimages/thumbsdown/thumbsdown.f9da13da-31ec-11f0-a028-ca2a8e13dad8.jpg\n",
      "Image collection for thumbsdown complete\n"
     ]
    }
   ],
   "source": [
    "import cv2\n",
    "import os\n",
    "import time\n",
    "import uuid\n",
    "\n",
    "# Set your variables\n",
    "IMAGES_PATH = 'Tensorflow/workspace/images/collectedimages'  \n",
    "label = 'thumbsdown'  \n",
    "number_imgs = 1\n",
    "\n",
    "# Ensure the directory exists\n",
    "os.makedirs(os.path.join(IMAGES_PATH, label), exist_ok=True)\n",
    "\n",
    "cap = cv2.VideoCapture(0)\n",
    "if not cap.isOpened():\n",
    "    print(\"Error: Could not access the camera. Check permissions in System Preferences.\")\n",
    "else:\n",
    "    print(f'Collecting images for {label}')\n",
    "    print('Press \"q\" to stop early')\n",
    "    time.sleep(2)  # Give time to prepare\n",
    "    \n",
    "    for imgnum in range(number_imgs):\n",
    "        print(f'Collecting image {imgnum+1}/{number_imgs}')\n",
    "        ret, frame = cap.read()\n",
    "        \n",
    "        if not ret:\n",
    "            print(\"Failed to capture image\")\n",
    "            continue\n",
    "            \n",
    "        imgname = os.path.join(IMAGES_PATH, label, f'{label}.{str(uuid.uuid1())}.jpg')\n",
    "        cv2.imwrite(imgname, frame)\n",
    "        \n",
    "        # Display the image\n",
    "        cv2.imshow('frame', frame)\n",
    "        print(f\"Saved: {imgname}\")\n",
    "        time.sleep(2)\n",
    "        \n",
    "        # Check for 'q' key press\n",
    "        key = cv2.waitKey(1) & 0xFF\n",
    "        if key == ord('q'):\n",
    "            break\n",
    "            \n",
    "    # Release camera\n",
    "    cap.release()\n",
    "    cv2.destroyAllWindows()\n",
    "    \n",
    "    print(f\"Image collection for {label} complete\")"
   ]
  },
  {
   "cell_type": "code",
   "execution_count": 18,
   "metadata": {},
   "outputs": [
    {
     "name": "stdout",
     "output_type": "stream",
     "text": [
      "Collecting images for thankyou\n",
      "Press \"q\" to stop early\n",
      "Collecting image 1/15\n",
      "Saved: Tensorflow/workspace/images/collectedimages/thankyou/thankyou.3eddec72-31ed-11f0-a028-ca2a8e13dad8.jpg\n",
      "Collecting image 2/15\n",
      "Saved: Tensorflow/workspace/images/collectedimages/thankyou/thankyou.401af594-31ed-11f0-a028-ca2a8e13dad8.jpg\n",
      "Collecting image 3/15\n",
      "Saved: Tensorflow/workspace/images/collectedimages/thankyou/thankyou.4156bdb2-31ed-11f0-a028-ca2a8e13dad8.jpg\n",
      "Collecting image 4/15\n",
      "Saved: Tensorflow/workspace/images/collectedimages/thankyou/thankyou.4291d108-31ed-11f0-a028-ca2a8e13dad8.jpg\n",
      "Collecting image 5/15\n",
      "Saved: Tensorflow/workspace/images/collectedimages/thankyou/thankyou.43cd90ca-31ed-11f0-a028-ca2a8e13dad8.jpg\n",
      "Collecting image 6/15\n",
      "Saved: Tensorflow/workspace/images/collectedimages/thankyou/thankyou.4508a678-31ed-11f0-a028-ca2a8e13dad8.jpg\n",
      "Collecting image 7/15\n",
      "Saved: Tensorflow/workspace/images/collectedimages/thankyou/thankyou.46448674-31ed-11f0-a028-ca2a8e13dad8.jpg\n",
      "Collecting image 8/15\n",
      "Saved: Tensorflow/workspace/images/collectedimages/thankyou/thankyou.477f885e-31ed-11f0-a028-ca2a8e13dad8.jpg\n",
      "Collecting image 9/15\n",
      "Saved: Tensorflow/workspace/images/collectedimages/thankyou/thankyou.48bbccaa-31ed-11f0-a028-ca2a8e13dad8.jpg\n",
      "Collecting image 10/15\n",
      "Saved: Tensorflow/workspace/images/collectedimages/thankyou/thankyou.49f6ddf8-31ed-11f0-a028-ca2a8e13dad8.jpg\n",
      "Collecting image 11/15\n",
      "Saved: Tensorflow/workspace/images/collectedimages/thankyou/thankyou.4b312ad4-31ed-11f0-a028-ca2a8e13dad8.jpg\n",
      "Collecting image 12/15\n",
      "Saved: Tensorflow/workspace/images/collectedimages/thankyou/thankyou.4c6c595a-31ed-11f0-a028-ca2a8e13dad8.jpg\n",
      "Collecting image 13/15\n",
      "Saved: Tensorflow/workspace/images/collectedimages/thankyou/thankyou.4da45f3e-31ed-11f0-a028-ca2a8e13dad8.jpg\n",
      "Collecting image 14/15\n",
      "Saved: Tensorflow/workspace/images/collectedimages/thankyou/thankyou.4edfad2c-31ed-11f0-a028-ca2a8e13dad8.jpg\n",
      "Collecting image 15/15\n",
      "Saved: Tensorflow/workspace/images/collectedimages/thankyou/thankyou.501b2d2e-31ed-11f0-a028-ca2a8e13dad8.jpg\n",
      "Image collection for thankyou complete\n"
     ]
    }
   ],
   "source": [
    "import cv2\n",
    "import os\n",
    "import time\n",
    "import uuid\n",
    "\n",
    "# Set your variables\n",
    "IMAGES_PATH = 'Tensorflow/workspace/images/collectedimages'  \n",
    "label = 'thankyou' \n",
    "number_imgs = 15  \n",
    "\n",
    "os.makedirs(os.path.join(IMAGES_PATH, label), exist_ok=True)\n",
    "\n",
    "\n",
    "cap = cv2.VideoCapture(0)\n",
    "if not cap.isOpened():\n",
    "    print(\"Error: Could not access the camera. Check permissions in System Preferences.\")\n",
    "else:\n",
    "    print(f'Collecting images for {label}')\n",
    "    print('Press \"q\" to stop early')\n",
    "    time.sleep(2)  # Give time to prepare\n",
    "    \n",
    "    for imgnum in range(number_imgs):\n",
    "        print(f'Collecting image {imgnum+1}/{number_imgs}')\n",
    "        ret, frame = cap.read()\n",
    "        \n",
    "        if not ret:\n",
    "            print(\"Failed to capture image\")\n",
    "            continue\n",
    "            \n",
    "        imgname = os.path.join(IMAGES_PATH, label, f'{label}.{str(uuid.uuid1())}.jpg')\n",
    "        cv2.imwrite(imgname, frame)\n",
    "        \n",
    "        # Display the image\n",
    "        cv2.imshow('frame', frame)\n",
    "        print(f\"Saved: {imgname}\")\n",
    "        time.sleep(2)\n",
    "        \n",
    "        # Check for 'q' key press\n",
    "        key = cv2.waitKey(1) & 0xFF\n",
    "        if key == ord('q'):\n",
    "            break\n",
    "            \n",
    "    # Release camera\n",
    "    cap.release()\n",
    "    cv2.destroyAllWindows()\n",
    "    \n",
    "    print(f\"Image collection for {label} complete\")"
   ]
  },
  {
   "cell_type": "code",
   "execution_count": 21,
   "metadata": {},
   "outputs": [
    {
     "name": "stdout",
     "output_type": "stream",
     "text": [
      "Collecting images for livelong\n",
      "Press \"q\" to stop early\n",
      "Collecting image 1/15\n",
      "Saved: Tensorflow/workspace/images/collectedimages/livelong/livelong.8b8ab39c-31ee-11f0-a028-ca2a8e13dad8.jpg\n",
      "Collecting image 2/15\n",
      "Saved: Tensorflow/workspace/images/collectedimages/livelong/livelong.8cc97e1e-31ee-11f0-a028-ca2a8e13dad8.jpg\n",
      "Image collection for livelong complete\n"
     ]
    }
   ],
   "source": [
    "\n",
    "IMAGES_PATH = 'Tensorflow/workspace/images/collectedimages'  \n",
    "label = 'livelong'  \n",
    "number_imgs = 15\n",
    "\n",
    "\n",
    "os.makedirs(os.path.join(IMAGES_PATH, label), exist_ok=True)\n",
    "\n",
    "\n",
    "cap = cv2.VideoCapture(0)\n",
    "if not cap.isOpened():\n",
    "    print(\"Error: Could not access the camera. Check permissions in System Preferences.\")\n",
    "else:\n",
    "    print(f'Collecting images for {label}')\n",
    "    print('Press \"q\" to stop early')\n",
    "    time.sleep(2)  # Give time to prepare\n",
    "    \n",
    "    for imgnum in range(number_imgs):\n",
    "        print(f'Collecting image {imgnum+1}/{number_imgs}')\n",
    "        ret, frame = cap.read()\n",
    "        \n",
    "        if not ret:\n",
    "            print(\"Failed to capture image\")\n",
    "            continue\n",
    "            \n",
    "        imgname = os.path.join(IMAGES_PATH, label, f'{label}.{str(uuid.uuid1())}.jpg')\n",
    "        cv2.imwrite(imgname, frame)\n",
    "        \n",
    "        # Display the image\n",
    "        cv2.imshow('frame', frame)\n",
    "        print(f\"Saved: {imgname}\")\n",
    "        time.sleep(2)\n",
    "        \n",
    "        # Check for 'q' key press\n",
    "        key = cv2.waitKey(1) & 0xFF\n",
    "        if key == ord('q'):\n",
    "            break\n",
    "            \n",
    "    # Release camera\n",
    "    cap.release()\n",
    "    cv2.destroyAllWindows()\n",
    "    \n",
    "    print(f\"Image collection for {label} complete\")"
   ]
  },
  {
   "cell_type": "markdown",
   "metadata": {},
   "source": [
    "# 5. Image Labelling"
   ]
  },
  {
   "cell_type": "code",
   "execution_count": 10,
   "metadata": {},
   "outputs": [
    {
     "name": "stdout",
     "output_type": "stream",
     "text": [
      "Collecting pyqt5\n",
      "  Using cached PyQt5-5.15.4-cp36.cp37.cp38.cp39-none-win_amd64.whl (6.8 MB)\n",
      "Collecting lxml\n",
      "  Using cached lxml-4.6.3-cp37-cp37m-win_amd64.whl (3.5 MB)\n",
      "Collecting PyQt5-sip<13,>=12.8\n",
      "  Using cached PyQt5_sip-12.8.1-cp37-cp37m-win_amd64.whl (62 kB)\n",
      "Collecting PyQt5-Qt5>=5.15\n",
      "  Using cached PyQt5_Qt5-5.15.2-py3-none-win_amd64.whl (50.1 MB)\n",
      "Installing collected packages: PyQt5-sip, PyQt5-Qt5, pyqt5, lxml\n",
      "Successfully installed PyQt5-Qt5-5.15.2 PyQt5-sip-12.8.1 lxml-4.6.3 pyqt5-5.15.4\n"
     ]
    }
   ],
   "source": [
    "!pip install --upgrade pyqt5 lxml"
   ]
  },
  {
   "cell_type": "code",
   "execution_count": 6,
   "metadata": {},
   "outputs": [],
   "source": [
    "LABELIMG_PATH = os.path.join('Tensorflow', 'labelimg')"
   ]
  },
  {
   "cell_type": "code",
   "execution_count": 9,
   "metadata": {},
   "outputs": [],
   "source": [
    "if not os.path.exists(LABELIMG_PATH):\n",
    "    !mkdir {LABELIMG_PATH}\n",
    "    #!git clone https://github.com/tzutalin/labelImg {LABELIMG_PATH}"
   ]
  },
  {
   "cell_type": "code",
   "execution_count": null,
   "metadata": {},
   "outputs": [],
   "source": [
    "# !pip install labelme"
   ]
  },
  {
   "cell_type": "code",
   "execution_count": 8,
   "metadata": {},
   "outputs": [
    {
     "data": {
      "text/plain": [
       "'Tensorflow/labelimg'"
      ]
     },
     "execution_count": 8,
     "metadata": {},
     "output_type": "execute_result"
    }
   ],
   "source": [
    "LABELIMG_PATH"
   ]
  },
  {
   "cell_type": "code",
   "execution_count": 13,
   "metadata": {},
   "outputs": [],
   "source": [
    "if os.name == 'posix':\n",
    "    !make qt5py3\n",
    "if os.name =='nt':\n",
    "    !cd {LABELIMG_PATH} && pyrcc5 -o libs/resources.py resources.qrc"
   ]
  },
  {
   "cell_type": "code",
   "execution_count": 19,
   "metadata": {},
   "outputs": [
    {
     "name": "stdout",
     "output_type": "stream",
     "text": [
      "Image:D:\\YouTube\\OD\\TFODCourse\\Tensorflow\\workspace\\images\\collectedimages\\thumbsup\\thumbsup.6a706a36-940f-11eb-b4eb-5cf3709bbcc6.jpg -> Annotation:D:/YouTube/OD/TFODCourse/Tensorflow/workspace/images/collectedimages/thumbsup/thumbsup.6a706a36-940f-11eb-b4eb-5cf3709bbcc6.xml\n",
      "Image:D:\\YouTube\\OD\\TFODCourse\\Tensorflow\\workspace\\images\\collectedimages\\thumbsup\\thumbsup.6ba4d864-940f-11eb-8c74-5cf3709bbcc6.jpg -> Annotation:D:/YouTube/OD/TFODCourse/Tensorflow/workspace/images/collectedimages/thumbsup/thumbsup.6ba4d864-940f-11eb-8c74-5cf3709bbcc6.xml\n",
      "Image:D:\\YouTube\\OD\\TFODCourse\\Tensorflow\\workspace\\images\\collectedimages\\thumbsup\\thumbsup.6cd9c8e2-940f-11eb-b901-5cf3709bbcc6.jpg -> Annotation:D:/YouTube/OD/TFODCourse/Tensorflow/workspace/images/collectedimages/thumbsup/thumbsup.6cd9c8e2-940f-11eb-b901-5cf3709bbcc6.xml\n",
      "Image:D:\\YouTube\\OD\\TFODCourse\\Tensorflow\\workspace\\images\\collectedimages\\thumbsup\\thumbsup.6e0f5bc0-940f-11eb-8d18-5cf3709bbcc6.jpg -> Annotation:D:/YouTube/OD/TFODCourse/Tensorflow/workspace/images/collectedimages/thumbsup/thumbsup.6e0f5bc0-940f-11eb-8d18-5cf3709bbcc6.xml\n",
      "Image:D:\\YouTube\\OD\\TFODCourse\\Tensorflow\\workspace\\images\\collectedimages\\thumbsup\\thumbsup.693a5158-940f-11eb-8752-5cf3709bbcc6.jpg -> Annotation:D:/YouTube/OD/TFODCourse/Tensorflow/workspace/images/collectedimages/thumbsup/thumbsup.693a5158-940f-11eb-8752-5cf3709bbcc6.xml\n"
     ]
    }
   ],
   "source": [
    "!cd {LABELIMG_PATH} && python labelImg.py"
   ]
  },
  {
   "cell_type": "markdown",
   "metadata": {},
   "source": [
    "# 6. Move them into a Training and Testing Partition"
   ]
  },
  {
   "cell_type": "markdown",
   "metadata": {},
   "source": [
    "# OPTIONAL - 7. Compress them for Colab Training"
   ]
  },
  {
   "cell_type": "code",
   "execution_count": 20,
   "metadata": {},
   "outputs": [],
   "source": [
    "TRAIN_PATH = os.path.join('Tensorflow', 'workspace', 'images', 'train')\n",
    "TEST_PATH = os.path.join('Tensorflow', 'workspace', 'images', 'test')\n",
    "ARCHIVE_PATH = os.path.join('Tensorflow', 'workspace', 'images', 'archive.tar.gz')"
   ]
  },
  {
   "cell_type": "code",
   "execution_count": 21,
   "metadata": {},
   "outputs": [],
   "source": [
    "!tar -czf {ARCHIVE_PATH} {TRAIN_PATH} {TEST_PATH}"
   ]
  },
  {
   "cell_type": "code",
   "execution_count": null,
   "metadata": {},
   "outputs": [],
   "source": []
  }
 ],
 "metadata": {
  "kernelspec": {
   "display_name": "tf_macos",
   "language": "python",
   "name": "python3"
  },
  "language_info": {
   "codemirror_mode": {
    "name": "ipython",
    "version": 3
   },
   "file_extension": ".py",
   "mimetype": "text/x-python",
   "name": "python",
   "nbconvert_exporter": "python",
   "pygments_lexer": "ipython3",
   "version": "3.10.16"
  }
 },
 "nbformat": 4,
 "nbformat_minor": 2
}
